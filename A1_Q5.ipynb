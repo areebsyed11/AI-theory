{
 "cells": [
  {
   "cell_type": "markdown",
   "id": "c35a9f1b-7649-470f-b69e-adaf6dd0b8f7",
   "metadata": {},
   "source": [
    "# QUESTION # 5"
   ]
  },
  {
   "cell_type": "markdown",
   "id": "bc3d00d0-d7a3-4c10-9b12-4c43db032b0b",
   "metadata": {},
   "source": [
    "> imports"
   ]
  },
  {
   "cell_type": "code",
   "execution_count": 41,
   "id": "e0545915-b26f-443b-ab62-d49b5b2dd4f2",
   "metadata": {
    "tags": []
   },
   "outputs": [],
   "source": [
    "from collections import deque \n",
    "import heapq "
   ]
  },
  {
   "cell_type": "markdown",
   "id": "6bc9cb00-7577-4e8e-86b8-094cd9ac0454",
   "metadata": {},
   "source": [
    "> Romania map class"
   ]
  },
  {
   "cell_type": "code",
   "execution_count": null,
   "id": "36bea984-8655-4f11-b285-fdcac33f37fe",
   "metadata": {
    "tags": []
   },
   "outputs": [],
   "source": [
    "class map_romania: \n",
    "\n",
    "    map = { 'a': [('z', 75), ('s', 140), ('t', 118)], \n",
    "            'z': [('a', 75), ('o', 71)], \n",
    "            's': [('a', 140), ('f', 99), ('r', 80)], \n",
    "            't': [('a', 118), ('l', 111)], \n",
    "            'o': [('z', 71), ('s', 151)], \n",
    "            'f': [('s', 99), ('b', 211)], \n",
    "            'r': [('s', 80), ('p', 97), ('c', 146)], \n",
    "            'l': [('t', 111), ('m', 70)], \n",
    "            'b': [('f', 211), ('p', 101), ('g', 90), ('u', 85)], \n",
    "            'p': [('r', 97), ('b', 101), ('c', 138)], \n",
    "            'c': [('d', 120), ('r', 146), ('p', 138)], \n",
    "            'm': [('l', 70), ('d', 75)], \n",
    "            'd': [('m', 75), ('c', 120)], \n",
    "            'g': [('b', 90)], \n",
    "            'u': [('b', 85), ('v', 142), ('h', 98)], \n",
    "            'v': [('u', 142), ('i', 92)], \n",
    "            'h': [('u', 98), ('e', 86)], \n",
    "            'e': [('h', 86)], \n",
    "            'i': [('v', 92), ('n', 87)], \n",
    "            'n': [('i', 87)] \n",
    "        } \n",
    "\n",
    "    heuristic = { 'a': 366, 'b': 0, 'c': 160,\n",
    "                  'd': 242, 'e': 161, 'f': 176,\n",
    "                  'g': 77, 'h': 151, 'i': 226,\n",
    "                  'l': 244, 'm': 241, 'n': 234,\n",
    "                  'o': 380, 'p': 100, 'r': 193,\n",
    "                  's': 253, 't': 329, 'u': 80,\n",
    "                  'v': 199, 'z': 374\n",
    "                } \n",
    "\n",
    "    shortest_paths = list()\n",
    "    \n",
    "    def get_weights(self, path): # Helper funct BFS\n",
    "\n",
    "        total_weight = 0 \n",
    "\n",
    "        for i in range(len(path) - 1): \n",
    "            for child, weight in self.map[path[i]]: \n",
    "                if child == path[i + 1]: \n",
    "                    total_weight += weight\n",
    "                    break\n",
    "        return total_weight \n",
    "\n",
    "    def bfs(self, initial, goal): # BFS\n",
    "        frontier = deque([(initial, [initial], 0)])\n",
    "        explored = set()\n",
    "        explored.add(initial) \n",
    "\n",
    "        while frontier: \n",
    "            current, path, total_weight = frontier.popleft()\n",
    "            if current == goal: \n",
    "                self.shortest_paths.append(('-'.join(path), total_weight, 'Breadth first search')) \n",
    "                return \n",
    "            for child, weight in self.map[current]:\n",
    "                if child not in explored: \n",
    "                    explored.add(child) \n",
    "                    frontier.append((child, path + [child], total_weight + weight)) \n",
    "                elif total_weight + weight < self.get_total_weight(path + [child]): \n",
    "                    frontier.append((child, path + [child], total_weight + weight))\n",
    "        return None \n",
    "\n",
    "    def uniform_cost_search(self, initial, goal): # UCS\n",
    "        distances = {node: float('inf') for node in self.map} \n",
    "        distances[initial] = 0 \n",
    "        priority_queue = [(0, initial)]  \n",
    "        explored = set()\n",
    "        explored.add(initial) \n",
    "        parent = {} \n",
    "\n",
    "        while priority_queue:\n",
    "            current_distance, current = heapq.heappop(priority_queue)            \n",
    "            if current == goal: \n",
    "                path = [] \n",
    "                while current in parent: \n",
    "                    path.insert(0, current) \n",
    "                    current = parent[current]\n",
    "                path.insert(0, initial) \n",
    "                self.shortest_paths.append(('-'.join(path), current_distance, 'Uniform cost search'))\n",
    "                return \n",
    "            for child, weight in self.map[current]:\n",
    "                distance = current_distance + weight\n",
    "                if distance < distances[child]: \n",
    "                    distances[child] = distance \n",
    "                    parent[child] = current \n",
    "                    heapq.heappush(priority_queue, (distance, child))\n",
    "        return None \n",
    "\n",
    "    def greedy_best_first_search(self, initial, goal): # Greedy \n",
    "        priority_queue = [(self.heuristic[initial], initial, 0)]\n",
    "        explored = set() \n",
    "        explored.add(initial)\n",
    "        parent = {} \n",
    "\n",
    "        while priority_queue:\n",
    "            current_heuristic, current, total_weight = heapq.heappop(priority_queue)\n",
    "            if current == goal: \n",
    "                path = [] \n",
    "                while current in parent:\n",
    "                    path.insert(0, current)\n",
    "                    current = parent[current]\n",
    "                path.insert(0, initial) \n",
    "                self.shortest_paths.append(('-'.join(path), total_weight, 'Greedy best first search'))\n",
    "                return  \n",
    "            for child, weight in self.map[current]: \n",
    "                if child not in explored: \n",
    "                    explored.add(child) \n",
    "                    parent[child] = current\n",
    "                    heapq.heappush(priority_queue, (self.heuristic[child], child, total_weight + weight)) \n",
    "\n",
    "        return None \n",
    " \n",
    "    def dfs(self, current, goal, depth, explored): # DFS for iterative deepening\n",
    "        if current == goal: \n",
    "            return [current], 0\n",
    "        if depth == 0: \n",
    "            return None \n",
    "\n",
    "        explored.add(current) \n",
    "        children = [] \n",
    "\n",
    "        for child, weight in self.map[current]:\n",
    "            if child not in explored: \n",
    "                children.append((child, weight)) \n",
    "                \n",
    "        if not children:\n",
    "            return None \n",
    "\n",
    "        children.sort(key=lambda x: x[1]) \n",
    "\n",
    "        for c, weight in children:\n",
    "            result = self.dfs(c, goal, depth - 1, explored)\n",
    "            if result is not None: \n",
    "                path, total_weight = result\n",
    "                return [current] + path, weight + total_weight \n",
    "        return None \n",
    "\n",
    "    def iterative_deepening(self, initial, goal, max_depth): # Iterative deepening\n",
    "        for depth in range(max_depth): \n",
    "            explored = set() \n",
    "            result = self.dfs(initial, goal, depth, explored)\n",
    "            if result is not None: \n",
    "                path, total_weight = result\n",
    "                self.shortest_paths.append(('-'.join(path), total_weight, 'Iterative deepening search'))\n",
    "                return \n",
    "\n",
    "        return None, float('inf')    \n",
    "    \n",
    "    # Sorts and prints the alogrithms in ascending order of their cost \n",
    "    def sort_and_print(self): \n",
    "        sorted_searches = sorted(self.shortest_paths, key=lambda x: x[1]) \n",
    "        print('\\nALGORITHMS IN ASCENDING ORDER OF THEIR TOTAL COST: \\n') \n",
    "\n",
    "        for i, j in enumerate(sorted_searches): \n",
    "            print(f'{i+1}. {j[2]}: {j[0]} -> {j[1]}')"
   ]
  },
  {
   "cell_type": "markdown",
   "id": "6c1c5fcf-1359-4c96-9428-537c1976f0ce",
   "metadata": {},
   "source": [
    "> Driver code"
   ]
  },
  {
   "cell_type": "code",
   "execution_count": null,
   "id": "6cb12945-8053-460d-bad8-896444217ff6",
   "metadata": {
    "tags": []
   },
   "outputs": [
    {
     "name": "stdout",
     "output_type": "stream",
     "text": [
      "Enter the initial city and destination city:  u t\n"
     ]
    },
    {
     "name": "stdout",
     "output_type": "stream",
     "text": [
      "\n",
      "ALGORITHMS IN ASCENDING ORDER OF THEIR TOTAL COST: \n",
      "\n",
      "1. Uniform cost search: u-b-p-r-s-a-t -> 621\n",
      "2. Iterative deepening search: u-b-p-r-s-a-t -> 621\n",
      "3. Breadth first search: u-b-f-s-a-t -> 653\n",
      "4. Greedy best first search: u-b-p-c-d-m-l-t -> 700\n"
     ]
    }
   ],
   "source": [
    "rm = map_romania()\n",
    "\n",
    "while True:\n",
    "    initial, dest = input('Enter the initial city and destination city: ').lower().split(' ')\n",
    "    if initial.isalpha() and dest.isalpha(): \n",
    "        break\n",
    "        \n",
    "rm.bfs(initial, dest) \n",
    "rm.uniform_cost_search(initial, dest) \n",
    "rm.greedy_best_first_search(initial, dest) \n",
    "rm.iterative_deepening(initial, dest, 20) \n",
    "rm.sort_and_print()        "
   ]
  }
 ],
 "metadata": {
  "kernelspec": {
   "display_name": "Python 3 (ipykernel)",
   "language": "python",
   "name": "python3"
  },
  "language_info": {
   "codemirror_mode": {
    "name": "ipython",
    "version": 3
   },
   "file_extension": ".py",
   "mimetype": "text/x-python",
   "name": "python",
   "nbconvert_exporter": "python",
   "pygments_lexer": "ipython3",
   "version": "3.11.4"
  }
 },
 "nbformat": 4,
 "nbformat_minor": 5
}
